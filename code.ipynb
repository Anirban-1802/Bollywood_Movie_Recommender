{
 "cells": [
  {
   "cell_type": "code",
   "execution_count": 1,
   "id": "2ac30865",
   "metadata": {},
   "outputs": [],
   "source": [
    "import numpy as np\n",
    "import pandas as pd"
   ]
  },
  {
   "cell_type": "code",
   "execution_count": 2,
   "id": "6574e2d4",
   "metadata": {},
   "outputs": [],
   "source": [
    "movies_df = pd.read_csv('movies.csv')"
   ]
  },
  {
   "cell_type": "code",
   "execution_count": 3,
   "id": "6995f270",
   "metadata": {},
   "outputs": [
    {
     "data": {
      "text/html": [
       "<div>\n",
       "<style scoped>\n",
       "    .dataframe tbody tr th:only-of-type {\n",
       "        vertical-align: middle;\n",
       "    }\n",
       "\n",
       "    .dataframe tbody tr th {\n",
       "        vertical-align: top;\n",
       "    }\n",
       "\n",
       "    .dataframe thead th {\n",
       "        text-align: right;\n",
       "    }\n",
       "</style>\n",
       "<table border=\"1\" class=\"dataframe\">\n",
       "  <thead>\n",
       "    <tr style=\"text-align: right;\">\n",
       "      <th></th>\n",
       "      <th>Serial No</th>\n",
       "      <th>movie_id</th>\n",
       "      <th>movie_name</th>\n",
       "      <th>year</th>\n",
       "      <th>genre</th>\n",
       "      <th>overview</th>\n",
       "      <th>director</th>\n",
       "      <th>cast</th>\n",
       "      <th>poster_url</th>\n",
       "      <th>rating</th>\n",
       "      <th>votes</th>\n",
       "    </tr>\n",
       "  </thead>\n",
       "  <tbody>\n",
       "    <tr>\n",
       "      <th>0</th>\n",
       "      <td>1</td>\n",
       "      <td>tt27056066</td>\n",
       "      <td>Sky Force</td>\n",
       "      <td>2025</td>\n",
       "      <td>Action, Thriller</td>\n",
       "      <td>Skyforce unravels a gripping tale inspired by ...</td>\n",
       "      <td>Abhishek Anil Kapur, Sandeep Kewlani</td>\n",
       "      <td>Akshay Kumar, Veer Pahariya, Nimrat Kaur</td>\n",
       "      <td>https://m.media-amazon.com/images/M/MV5BZTViYz...</td>\n",
       "      <td>7.0</td>\n",
       "      <td>9382</td>\n",
       "    </tr>\n",
       "  </tbody>\n",
       "</table>\n",
       "</div>"
      ],
      "text/plain": [
       "   Serial No    movie_id movie_name  year             genre  \\\n",
       "0          1  tt27056066  Sky Force  2025  Action, Thriller   \n",
       "\n",
       "                                            overview  \\\n",
       "0  Skyforce unravels a gripping tale inspired by ...   \n",
       "\n",
       "                               director  \\\n",
       "0  Abhishek Anil Kapur, Sandeep Kewlani   \n",
       "\n",
       "                                       cast  \\\n",
       "0  Akshay Kumar, Veer Pahariya, Nimrat Kaur   \n",
       "\n",
       "                                          poster_url rating votes  \n",
       "0  https://m.media-amazon.com/images/M/MV5BZTViYz...    7.0  9382  "
      ]
     },
     "execution_count": 3,
     "metadata": {},
     "output_type": "execute_result"
    }
   ],
   "source": [
    "movies_df.head(1)"
   ]
  },
  {
   "cell_type": "code",
   "execution_count": 4,
   "id": "b2b64803",
   "metadata": {},
   "outputs": [],
   "source": [
    "#movie_id\n",
    "#poster_url\n",
    "#movie_name\n",
    "#year\n",
    "#genre\n",
    "#overview\n",
    "#director\n",
    "#cast\n",
    "#rating\n",
    "\n",
    "movies_df = movies_df[['movie_id','movie_name','year','rating','genre','overview','director','cast']]"
   ]
  },
  {
   "cell_type": "code",
   "execution_count": 5,
   "id": "66812012",
   "metadata": {},
   "outputs": [
    {
     "data": {
      "text/html": [
       "<div>\n",
       "<style scoped>\n",
       "    .dataframe tbody tr th:only-of-type {\n",
       "        vertical-align: middle;\n",
       "    }\n",
       "\n",
       "    .dataframe tbody tr th {\n",
       "        vertical-align: top;\n",
       "    }\n",
       "\n",
       "    .dataframe thead th {\n",
       "        text-align: right;\n",
       "    }\n",
       "</style>\n",
       "<table border=\"1\" class=\"dataframe\">\n",
       "  <thead>\n",
       "    <tr style=\"text-align: right;\">\n",
       "      <th></th>\n",
       "      <th>movie_id</th>\n",
       "      <th>movie_name</th>\n",
       "      <th>year</th>\n",
       "      <th>rating</th>\n",
       "      <th>genre</th>\n",
       "      <th>overview</th>\n",
       "      <th>director</th>\n",
       "      <th>cast</th>\n",
       "    </tr>\n",
       "  </thead>\n",
       "  <tbody>\n",
       "    <tr>\n",
       "      <th>0</th>\n",
       "      <td>tt27056066</td>\n",
       "      <td>Sky Force</td>\n",
       "      <td>2025</td>\n",
       "      <td>7.0</td>\n",
       "      <td>Action, Thriller</td>\n",
       "      <td>Skyforce unravels a gripping tale inspired by ...</td>\n",
       "      <td>Abhishek Anil Kapur, Sandeep Kewlani</td>\n",
       "      <td>Akshay Kumar, Veer Pahariya, Nimrat Kaur</td>\n",
       "    </tr>\n",
       "  </tbody>\n",
       "</table>\n",
       "</div>"
      ],
      "text/plain": [
       "     movie_id movie_name  year rating             genre  \\\n",
       "0  tt27056066  Sky Force  2025    7.0  Action, Thriller   \n",
       "\n",
       "                                            overview  \\\n",
       "0  Skyforce unravels a gripping tale inspired by ...   \n",
       "\n",
       "                               director  \\\n",
       "0  Abhishek Anil Kapur, Sandeep Kewlani   \n",
       "\n",
       "                                       cast  \n",
       "0  Akshay Kumar, Veer Pahariya, Nimrat Kaur  "
      ]
     },
     "execution_count": 5,
     "metadata": {},
     "output_type": "execute_result"
    }
   ],
   "source": [
    "movies_df.head(1)"
   ]
  },
  {
   "cell_type": "code",
   "execution_count": 6,
   "id": "4a3a1003",
   "metadata": {},
   "outputs": [],
   "source": [
    "movies_df['director'] = movies_df['director'].apply(lambda x:([name.replace(' ', '') for name in x.split(',')]))\n",
    "movies_df['cast'] = movies_df['cast'].apply(lambda x:([name.replace(' ', '') for name in x.split(',')]))"
   ]
  },
  {
   "cell_type": "code",
   "execution_count": 7,
   "id": "09b11f3d",
   "metadata": {},
   "outputs": [],
   "source": [
    "movies_df['overview'] = movies_df['overview'].apply(lambda x:x.split())"
   ]
  },
  {
   "cell_type": "code",
   "execution_count": 8,
   "id": "8a613cb5",
   "metadata": {},
   "outputs": [
    {
     "data": {
      "text/html": [
       "<div>\n",
       "<style scoped>\n",
       "    .dataframe tbody tr th:only-of-type {\n",
       "        vertical-align: middle;\n",
       "    }\n",
       "\n",
       "    .dataframe tbody tr th {\n",
       "        vertical-align: top;\n",
       "    }\n",
       "\n",
       "    .dataframe thead th {\n",
       "        text-align: right;\n",
       "    }\n",
       "</style>\n",
       "<table border=\"1\" class=\"dataframe\">\n",
       "  <thead>\n",
       "    <tr style=\"text-align: right;\">\n",
       "      <th></th>\n",
       "      <th>movie_id</th>\n",
       "      <th>movie_name</th>\n",
       "      <th>year</th>\n",
       "      <th>rating</th>\n",
       "      <th>genre</th>\n",
       "      <th>overview</th>\n",
       "      <th>director</th>\n",
       "      <th>cast</th>\n",
       "    </tr>\n",
       "  </thead>\n",
       "  <tbody>\n",
       "    <tr>\n",
       "      <th>0</th>\n",
       "      <td>tt27056066</td>\n",
       "      <td>Sky Force</td>\n",
       "      <td>2025</td>\n",
       "      <td>7.0</td>\n",
       "      <td>Action, Thriller</td>\n",
       "      <td>[Skyforce, unravels, a, gripping, tale, inspir...</td>\n",
       "      <td>[AbhishekAnilKapur, SandeepKewlani]</td>\n",
       "      <td>[AkshayKumar, VeerPahariya, NimratKaur]</td>\n",
       "    </tr>\n",
       "  </tbody>\n",
       "</table>\n",
       "</div>"
      ],
      "text/plain": [
       "     movie_id movie_name  year rating             genre  \\\n",
       "0  tt27056066  Sky Force  2025    7.0  Action, Thriller   \n",
       "\n",
       "                                            overview  \\\n",
       "0  [Skyforce, unravels, a, gripping, tale, inspir...   \n",
       "\n",
       "                              director  \\\n",
       "0  [AbhishekAnilKapur, SandeepKewlani]   \n",
       "\n",
       "                                      cast  \n",
       "0  [AkshayKumar, VeerPahariya, NimratKaur]  "
      ]
     },
     "execution_count": 8,
     "metadata": {},
     "output_type": "execute_result"
    }
   ],
   "source": [
    "movies_df.head(1)"
   ]
  },
  {
   "cell_type": "code",
   "execution_count": 9,
   "id": "686ed8c5",
   "metadata": {},
   "outputs": [
    {
     "data": {
      "text/plain": [
       "0              [Action, Thriller]\n",
       "1       [Action, Comedy, Romance]\n",
       "2                [Drama, Romance]\n",
       "3        [Action, Drama, History]\n",
       "4          [Action, Crime, Drama]\n",
       "                  ...            \n",
       "7264                [Documentary]\n",
       "7265       [Action, Crime, Drama]\n",
       "7266           [Musical, Romance]\n",
       "7267                      [Drama]\n",
       "7268     [Crime, Drama, Thriller]\n",
       "Name: genre, Length: 7269, dtype: object"
      ]
     },
     "execution_count": 9,
     "metadata": {},
     "output_type": "execute_result"
    }
   ],
   "source": [
    "movies_df['genre'].apply(lambda x: [x] if isinstance(x, str) else x)"
   ]
  },
  {
   "cell_type": "code",
   "execution_count": 10,
   "id": "6ef89a41",
   "metadata": {},
   "outputs": [],
   "source": [
    "movies_df['tags'] = movies_df['genre'].apply(lambda x: x if isinstance(x, list) else [x]) + \\\n",
    "                    movies_df['overview'].apply(lambda x: x if isinstance(x, list) else [x]) + \\\n",
    "                    movies_df['director'].apply(lambda x: x if isinstance(x, list) else [x]) + \\\n",
    "                    movies_df['cast'].apply(lambda x: x if isinstance(x, list) else [x])\n"
   ]
  },
  {
   "cell_type": "code",
   "execution_count": 11,
   "id": "02df8938",
   "metadata": {},
   "outputs": [
    {
     "data": {
      "text/html": [
       "<div>\n",
       "<style scoped>\n",
       "    .dataframe tbody tr th:only-of-type {\n",
       "        vertical-align: middle;\n",
       "    }\n",
       "\n",
       "    .dataframe tbody tr th {\n",
       "        vertical-align: top;\n",
       "    }\n",
       "\n",
       "    .dataframe thead th {\n",
       "        text-align: right;\n",
       "    }\n",
       "</style>\n",
       "<table border=\"1\" class=\"dataframe\">\n",
       "  <thead>\n",
       "    <tr style=\"text-align: right;\">\n",
       "      <th></th>\n",
       "      <th>movie_id</th>\n",
       "      <th>movie_name</th>\n",
       "      <th>year</th>\n",
       "      <th>rating</th>\n",
       "      <th>genre</th>\n",
       "      <th>overview</th>\n",
       "      <th>director</th>\n",
       "      <th>cast</th>\n",
       "      <th>tags</th>\n",
       "    </tr>\n",
       "  </thead>\n",
       "  <tbody>\n",
       "    <tr>\n",
       "      <th>0</th>\n",
       "      <td>tt27056066</td>\n",
       "      <td>Sky Force</td>\n",
       "      <td>2025</td>\n",
       "      <td>7.0</td>\n",
       "      <td>Action, Thriller</td>\n",
       "      <td>[Skyforce, unravels, a, gripping, tale, inspir...</td>\n",
       "      <td>[AbhishekAnilKapur, SandeepKewlani]</td>\n",
       "      <td>[AkshayKumar, VeerPahariya, NimratKaur]</td>\n",
       "      <td>[Action, Thriller, Skyforce, unravels, a, grip...</td>\n",
       "    </tr>\n",
       "  </tbody>\n",
       "</table>\n",
       "</div>"
      ],
      "text/plain": [
       "     movie_id movie_name  year rating             genre  \\\n",
       "0  tt27056066  Sky Force  2025    7.0  Action, Thriller   \n",
       "\n",
       "                                            overview  \\\n",
       "0  [Skyforce, unravels, a, gripping, tale, inspir...   \n",
       "\n",
       "                              director  \\\n",
       "0  [AbhishekAnilKapur, SandeepKewlani]   \n",
       "\n",
       "                                      cast  \\\n",
       "0  [AkshayKumar, VeerPahariya, NimratKaur]   \n",
       "\n",
       "                                                tags  \n",
       "0  [Action, Thriller, Skyforce, unravels, a, grip...  "
      ]
     },
     "execution_count": 11,
     "metadata": {},
     "output_type": "execute_result"
    }
   ],
   "source": [
    "movies_df.head(1)"
   ]
  },
  {
   "cell_type": "code",
   "execution_count": 12,
   "id": "bbb0d01f",
   "metadata": {},
   "outputs": [],
   "source": [
    "new_df = movies_df.drop(['genre', 'overview', 'director', 'cast'], axis=1)"
   ]
  },
  {
   "cell_type": "code",
   "execution_count": 13,
   "id": "ca5ae718",
   "metadata": {},
   "outputs": [
    {
     "data": {
      "text/html": [
       "<div>\n",
       "<style scoped>\n",
       "    .dataframe tbody tr th:only-of-type {\n",
       "        vertical-align: middle;\n",
       "    }\n",
       "\n",
       "    .dataframe tbody tr th {\n",
       "        vertical-align: top;\n",
       "    }\n",
       "\n",
       "    .dataframe thead th {\n",
       "        text-align: right;\n",
       "    }\n",
       "</style>\n",
       "<table border=\"1\" class=\"dataframe\">\n",
       "  <thead>\n",
       "    <tr style=\"text-align: right;\">\n",
       "      <th></th>\n",
       "      <th>movie_id</th>\n",
       "      <th>movie_name</th>\n",
       "      <th>year</th>\n",
       "      <th>rating</th>\n",
       "      <th>tags</th>\n",
       "    </tr>\n",
       "  </thead>\n",
       "  <tbody>\n",
       "    <tr>\n",
       "      <th>0</th>\n",
       "      <td>tt27056066</td>\n",
       "      <td>Sky Force</td>\n",
       "      <td>2025</td>\n",
       "      <td>7.0</td>\n",
       "      <td>[Action, Thriller, Skyforce, unravels, a, grip...</td>\n",
       "    </tr>\n",
       "  </tbody>\n",
       "</table>\n",
       "</div>"
      ],
      "text/plain": [
       "     movie_id movie_name  year rating  \\\n",
       "0  tt27056066  Sky Force  2025    7.0   \n",
       "\n",
       "                                                tags  \n",
       "0  [Action, Thriller, Skyforce, unravels, a, grip...  "
      ]
     },
     "execution_count": 13,
     "metadata": {},
     "output_type": "execute_result"
    }
   ],
   "source": [
    "new_df.head(1)"
   ]
  },
  {
   "cell_type": "code",
   "execution_count": 14,
   "id": "cf58672b",
   "metadata": {},
   "outputs": [
    {
     "name": "stdout",
     "output_type": "stream",
     "text": [
      "0\n",
      "0\n",
      "0\n",
      "0\n",
      "0\n"
     ]
    }
   ],
   "source": [
    "print(new_df['movie_id'].isnull().values.sum())\n",
    "print(new_df['movie_name'].isnull().values.sum())\n",
    "print(new_df['year'].isnull().values.sum())\n",
    "print(new_df['rating'].isnull().values.sum())\n",
    "print(new_df['tags'].isnull().values.sum())\n"
   ]
  },
  {
   "cell_type": "code",
   "execution_count": 15,
   "id": "4ac88cdc",
   "metadata": {},
   "outputs": [],
   "source": [
    "import re\n",
    "\n",
    "def clean_tags(x):\n",
    "    if isinstance(x, list):\n",
    "        # Join the list into a single string with spaces, lowercase, and clean punctuation\n",
    "        joined = \" \".join(x)\n",
    "        joined = joined.lower()\n",
    "        joined = re.sub(r'[^\\w\\s]', '', joined)  # Remove punctuation\n",
    "        return joined\n",
    "    return x\n",
    "\n",
    "new_df['tags'] = new_df['tags'].apply(clean_tags)\n"
   ]
  },
  {
   "cell_type": "code",
   "execution_count": 16,
   "id": "38ff9813",
   "metadata": {},
   "outputs": [],
   "source": [
    "import nltk\n",
    "from nltk.stem.porter import PorterStemmer\n",
    "ps = PorterStemmer()"
   ]
  },
  {
   "cell_type": "code",
   "execution_count": 17,
   "id": "b1af1ed6",
   "metadata": {},
   "outputs": [],
   "source": [
    "def stem(text):\n",
    "    y = []\n",
    "\n",
    "    for i in text.split():\n",
    "        y.append(ps.stem(i))\n",
    "    \n",
    "    return ' '.join(y)"
   ]
  },
  {
   "cell_type": "code",
   "execution_count": 18,
   "id": "0fd93886",
   "metadata": {},
   "outputs": [],
   "source": [
    "new_df['tags'] = new_df['tags'].apply(stem)"
   ]
  },
  {
   "cell_type": "code",
   "execution_count": 19,
   "id": "a6e2f75c",
   "metadata": {},
   "outputs": [
    {
     "name": "stdout",
     "output_type": "stream",
     "text": [
      "action thriller skyforc unravel a grip tale inspir by true event from one of the deadliest air strike between india and pakistan a hero lost a comrad quest for truthan epic tribut to braveri sacrific and unbreak courag abhishekanilkapur sandeepkewlani akshaykumar veerpahariya nimratkaur\n"
     ]
    }
   ],
   "source": [
    "print(new_df['tags'].iloc[0])"
   ]
  },
  {
   "cell_type": "code",
   "execution_count": 20,
   "id": "03af904b",
   "metadata": {},
   "outputs": [],
   "source": [
    "#vectorization of tags\n",
    "from sklearn.feature_extraction.text import CountVectorizer"
   ]
  },
  {
   "cell_type": "code",
   "execution_count": 21,
   "id": "42375e0e",
   "metadata": {},
   "outputs": [],
   "source": [
    "cv = CountVectorizer(max_features=5000,stop_words='english') "
   ]
  },
  {
   "cell_type": "code",
   "execution_count": 22,
   "id": "0bd77553",
   "metadata": {},
   "outputs": [
    {
     "data": {
      "text/html": [
       "<div>\n",
       "<style scoped>\n",
       "    .dataframe tbody tr th:only-of-type {\n",
       "        vertical-align: middle;\n",
       "    }\n",
       "\n",
       "    .dataframe tbody tr th {\n",
       "        vertical-align: top;\n",
       "    }\n",
       "\n",
       "    .dataframe thead th {\n",
       "        text-align: right;\n",
       "    }\n",
       "</style>\n",
       "<table border=\"1\" class=\"dataframe\">\n",
       "  <thead>\n",
       "    <tr style=\"text-align: right;\">\n",
       "      <th></th>\n",
       "      <th>movie_id</th>\n",
       "      <th>movie_name</th>\n",
       "      <th>year</th>\n",
       "      <th>rating</th>\n",
       "      <th>tags</th>\n",
       "    </tr>\n",
       "  </thead>\n",
       "  <tbody>\n",
       "    <tr>\n",
       "      <th>0</th>\n",
       "      <td>tt27056066</td>\n",
       "      <td>Sky Force</td>\n",
       "      <td>2025</td>\n",
       "      <td>7.0</td>\n",
       "      <td>action thriller skyforc unravel a grip tale in...</td>\n",
       "    </tr>\n",
       "  </tbody>\n",
       "</table>\n",
       "</div>"
      ],
      "text/plain": [
       "     movie_id movie_name  year rating  \\\n",
       "0  tt27056066  Sky Force  2025    7.0   \n",
       "\n",
       "                                                tags  \n",
       "0  action thriller skyforc unravel a grip tale in...  "
      ]
     },
     "execution_count": 22,
     "metadata": {},
     "output_type": "execute_result"
    }
   ],
   "source": [
    "new_df.head(1)"
   ]
  },
  {
   "cell_type": "code",
   "execution_count": 23,
   "id": "7ad8e848",
   "metadata": {},
   "outputs": [],
   "source": [
    "vectors = cv.fit_transform(new_df['tags']).toarray()"
   ]
  },
  {
   "cell_type": "code",
   "execution_count": 24,
   "id": "c018de38",
   "metadata": {},
   "outputs": [
    {
     "data": {
      "text/plain": [
       "array([0, 0, 0, ..., 0, 0, 0], shape=(5000,))"
      ]
     },
     "execution_count": 24,
     "metadata": {},
     "output_type": "execute_result"
    }
   ],
   "source": [
    "vectors[0]"
   ]
  },
  {
   "cell_type": "code",
   "execution_count": 25,
   "id": "3a7ca858",
   "metadata": {},
   "outputs": [
    {
     "data": {
      "text/plain": [
       "array(['10', '100', '11', ..., 'zoyaakhtar', 'zoyahussain', 'zuberkkhan'],\n",
       "      shape=(5000,), dtype=object)"
      ]
     },
     "execution_count": 25,
     "metadata": {},
     "output_type": "execute_result"
    }
   ],
   "source": [
    "cv.get_feature_names_out()"
   ]
  },
  {
   "cell_type": "code",
   "execution_count": 26,
   "id": "eec18336",
   "metadata": {},
   "outputs": [
    {
     "name": "stdout",
     "output_type": "stream",
     "text": [
      "Defaulting to user installation because normal site-packages is not writeable\n",
      "Requirement already satisfied: nltk in c:\\users\\agstu\\appdata\\roaming\\python\\python313\\site-packages (3.9.1)\n",
      "Requirement already satisfied: click in c:\\users\\agstu\\appdata\\roaming\\python\\python313\\site-packages (from nltk) (8.2.1)\n",
      "Requirement already satisfied: joblib in c:\\users\\agstu\\appdata\\roaming\\python\\python313\\site-packages (from nltk) (1.5.1)\n",
      "Requirement already satisfied: regex>=2021.8.3 in c:\\users\\agstu\\appdata\\roaming\\python\\python313\\site-packages (from nltk) (2024.11.6)\n",
      "Requirement already satisfied: tqdm in c:\\users\\agstu\\appdata\\roaming\\python\\python313\\site-packages (from nltk) (4.67.1)\n",
      "Requirement already satisfied: colorama in c:\\users\\agstu\\appdata\\roaming\\python\\python313\\site-packages (from click->nltk) (0.4.6)\n"
     ]
    }
   ],
   "source": [
    "!pip install nltk"
   ]
  },
  {
   "cell_type": "code",
   "execution_count": 27,
   "id": "56f8f494",
   "metadata": {},
   "outputs": [],
   "source": [
    "from sklearn.metrics.pairwise import cosine_similarity\n",
    "similarity = cosine_similarity(vectors)"
   ]
  },
  {
   "cell_type": "code",
   "execution_count": 28,
   "id": "1819ce9b",
   "metadata": {},
   "outputs": [
    {
     "data": {
      "text/plain": [
       "[(120, np.float64(0.3086066999241838)),\n",
       " (111, np.float64(0.29277002188455997)),\n",
       " (745, np.float64(0.2439750182371333)),\n",
       " (4078, np.float64(0.24313226954193234)),\n",
       " (5189, np.float64(0.24209101306752098))]"
      ]
     },
     "execution_count": 28,
     "metadata": {},
     "output_type": "execute_result"
    }
   ],
   "source": [
    "sorted(list(enumerate(similarity[0])), reverse=True, key=lambda x:x[1])[1:6]"
   ]
  },
  {
   "cell_type": "code",
   "execution_count": 29,
   "id": "668db74d",
   "metadata": {},
   "outputs": [],
   "source": [
    "def recommend(movie):\n",
    "    movie_index = new_df[new_df['movie_name'] == movie].index[0]\n",
    "    distances = similarity[movie_index]\n",
    "    movies_list = sorted(list(enumerate(distances)), reverse=True, key=lambda x:x[1])[1:6]\n",
    "\n",
    "    for i in movies_list:\n",
    "        print(f\"{new_df.iloc[i[0]].movie_name} ({new_df.iloc[i[0]].year}) - Rating: {new_df.iloc[i[0]].rating}\")"
   ]
  },
  {
   "cell_type": "code",
   "execution_count": 30,
   "id": "bec9cb9a",
   "metadata": {},
   "outputs": [
    {
     "data": {
      "text/html": [
       "<div>\n",
       "<style scoped>\n",
       "    .dataframe tbody tr th:only-of-type {\n",
       "        vertical-align: middle;\n",
       "    }\n",
       "\n",
       "    .dataframe tbody tr th {\n",
       "        vertical-align: top;\n",
       "    }\n",
       "\n",
       "    .dataframe thead th {\n",
       "        text-align: right;\n",
       "    }\n",
       "</style>\n",
       "<table border=\"1\" class=\"dataframe\">\n",
       "  <thead>\n",
       "    <tr style=\"text-align: right;\">\n",
       "      <th></th>\n",
       "      <th>movie_id</th>\n",
       "      <th>movie_name</th>\n",
       "      <th>year</th>\n",
       "      <th>rating</th>\n",
       "      <th>tags</th>\n",
       "    </tr>\n",
       "  </thead>\n",
       "  <tbody>\n",
       "    <tr>\n",
       "      <th>0</th>\n",
       "      <td>tt27056066</td>\n",
       "      <td>Sky Force</td>\n",
       "      <td>2025</td>\n",
       "      <td>7.0</td>\n",
       "      <td>action thriller skyforc unravel a grip tale in...</td>\n",
       "    </tr>\n",
       "    <tr>\n",
       "      <th>1</th>\n",
       "      <td>tt21194868</td>\n",
       "      <td>Dhoom Dhaam</td>\n",
       "      <td>2025</td>\n",
       "      <td>Not Available</td>\n",
       "      <td>action comedi romanc veer khurana and koyal ch...</td>\n",
       "    </tr>\n",
       "    <tr>\n",
       "      <th>2</th>\n",
       "      <td>tt30422937</td>\n",
       "      <td>Nadaaniyan</td>\n",
       "      <td>2025</td>\n",
       "      <td>3.0</td>\n",
       "      <td>drama romanc a privileg delhi socialit hire a ...</td>\n",
       "    </tr>\n",
       "    <tr>\n",
       "      <th>3</th>\n",
       "      <td>tt27922706</td>\n",
       "      <td>Chhaava</td>\n",
       "      <td>2025</td>\n",
       "      <td>7.9</td>\n",
       "      <td>action drama histori a histor drama base on th...</td>\n",
       "    </tr>\n",
       "    <tr>\n",
       "      <th>4</th>\n",
       "      <td>tt28259207</td>\n",
       "      <td>Kill</td>\n",
       "      <td>2023</td>\n",
       "      <td>7.5</td>\n",
       "      <td>action crime drama dure a train trip to new de...</td>\n",
       "    </tr>\n",
       "  </tbody>\n",
       "</table>\n",
       "</div>"
      ],
      "text/plain": [
       "     movie_id   movie_name  year         rating  \\\n",
       "0  tt27056066    Sky Force  2025            7.0   \n",
       "1  tt21194868  Dhoom Dhaam  2025  Not Available   \n",
       "2  tt30422937   Nadaaniyan  2025            3.0   \n",
       "3  tt27922706      Chhaava  2025            7.9   \n",
       "4  tt28259207         Kill  2023            7.5   \n",
       "\n",
       "                                                tags  \n",
       "0  action thriller skyforc unravel a grip tale in...  \n",
       "1  action comedi romanc veer khurana and koyal ch...  \n",
       "2  drama romanc a privileg delhi socialit hire a ...  \n",
       "3  action drama histori a histor drama base on th...  \n",
       "4  action crime drama dure a train trip to new de...  "
      ]
     },
     "execution_count": 30,
     "metadata": {},
     "output_type": "execute_result"
    }
   ],
   "source": [
    "new_df.head(5)"
   ]
  },
  {
   "cell_type": "code",
   "execution_count": 31,
   "id": "55028f0e",
   "metadata": {},
   "outputs": [
    {
     "name": "stdout",
     "output_type": "stream",
     "text": [
      "Chhatrapati Shivaji (2017) - Rating: 8.2\n",
      "Paltan (2018) - Rating: 5.2\n",
      "Mumbaikar (2023) - Rating: 4.9\n",
      "The Good Maharaja (2022) - Rating: Not Available\n",
      "Sher Shivaji (1987) - Rating: 6.2\n"
     ]
    }
   ],
   "source": [
    "recommend('Chhaava')"
   ]
  },
  {
   "cell_type": "code",
   "execution_count": 32,
   "id": "7ecc564e",
   "metadata": {},
   "outputs": [],
   "source": [
    "import pickle"
   ]
  },
  {
   "cell_type": "code",
   "execution_count": 33,
   "id": "2207d76c",
   "metadata": {},
   "outputs": [],
   "source": [
    "# Saving the model (already done by you)\n",
    "with open(\"model.pkl\", \"wb\") as f:\n",
    "    pickle.dump({'data': new_df, 'similarity': similarity}, f)\n"
   ]
  }
 ],
 "metadata": {
  "kernelspec": {
   "display_name": "Python 3",
   "language": "python",
   "name": "python3"
  },
  "language_info": {
   "codemirror_mode": {
    "name": "ipython",
    "version": 3
   },
   "file_extension": ".py",
   "mimetype": "text/x-python",
   "name": "python",
   "nbconvert_exporter": "python",
   "pygments_lexer": "ipython3",
   "version": "3.13.4"
  }
 },
 "nbformat": 4,
 "nbformat_minor": 5
}
